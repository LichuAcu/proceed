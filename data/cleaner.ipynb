{
 "cells": [
  {
   "cell_type": "code",
   "execution_count": 13,
   "metadata": {},
   "outputs": [],
   "source": [
    "import pandas as pd\n",
    "from sklearn.model_selection import train_test_split\n",
    "import os\n",
    "\n",
    "dataset_loc = '../routerbench/dataset/routerbench_0shot.csv'"
   ]
  },
  {
   "cell_type": "code",
   "execution_count": 17,
   "metadata": {},
   "outputs": [],
   "source": [
    "def process_dataset(model):\n",
    "    routerbench_0shot = pd.read_csv(dataset_loc)\n",
    "\n",
    "    # Create a special dataframe with the specified columns\n",
    "    model_df = routerbench_0shot[['sample_id', 'prompt', 'eval_name'] + [col for col in routerbench_0shot.columns if model in col]]\n",
    "    \n",
    "    # We remove Chinese samples because we are using English-only fasttext\n",
    "    model_df = model_df[~model_df['eval_name'].str.contains('chinese', case=False, na=False)]\n",
    "    \n",
    "    # print(model_df[model].value_counts())\n",
    "    # Since we use a classifier, we remove the few (49 for gpt-3.5-turbo-1106) samples with a score not in {0, 0.25, 0.5, 0.75, 1}\n",
    "    model_df = model_df[model_df[model].isin([0, 0.25, 0.5, 0.75, 1])]\n",
    "    train_df, test_df = train_test_split(model_df[['prompt', model]], test_size=0.3, random_state=42)\n",
    "    \n",
    "    os.makedirs(f'{model.replace(\"/\", \"-\")}', exist_ok=True)\n",
    "    train_df.to_csv(f'{model.replace(\"/\", \"-\")}/train.csv', index=False, header=[\"prompt\", \"score\"])\n",
    "    test_df.to_csv(f'{model.replace(\"/\", \"-\")}/test.csv', index=False, header=[\"prompt\", \"score\"])\n",
    "\n"
   ]
  },
  {
   "cell_type": "code",
   "execution_count": 18,
   "metadata": {},
   "outputs": [
    {
     "name": "stdout",
     "output_type": "stream",
     "text": [
      "WizardLM/WizardLM-13B-V1.2\n",
      "claude-instant-v1\n",
      "claude-v1\n",
      "claude-v2\n",
      "gpt-3.5-turbo-1106\n",
      "gpt-4-1106-preview\n",
      "meta/code-llama-instruct-34b-chat\n",
      "meta/llama-2-70b-chat\n",
      "mistralai/mistral-7b-chat\n",
      "mistralai/mixtral-8x7b-chat\n",
      "zero-one-ai/Yi-34B-Chat\n"
     ]
    }
   ],
   "source": [
    "header_list = pd.read_csv(dataset_loc, nrows=0).columns.tolist()\n",
    "header_list\n",
    "for header in header_list:\n",
    "    if not any(exclude in header for exclude in ['sample_id', 'prompt', 'eval_name', 'oracle_model_to_route_to', 'cost', 'model_response']):\n",
    "        print(header)\n",
    "        process_dataset(header)"
   ]
  }
 ],
 "metadata": {
  "kernelspec": {
   "display_name": "cs224n",
   "language": "python",
   "name": "python3"
  },
  "language_info": {
   "codemirror_mode": {
    "name": "ipython",
    "version": 3
   },
   "file_extension": ".py",
   "mimetype": "text/x-python",
   "name": "python",
   "nbconvert_exporter": "python",
   "pygments_lexer": "ipython3",
   "version": "3.12.2"
  }
 },
 "nbformat": 4,
 "nbformat_minor": 2
}
